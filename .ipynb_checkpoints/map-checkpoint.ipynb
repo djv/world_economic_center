{
 "metadata": {
  "name": ""
 },
 "nbformat": 3,
 "nbformat_minor": 0,
 "worksheets": [
  {
   "cells": [
    {
     "cell_type": "code",
     "collapsed": false,
     "input": [
      "from mpl_toolkits.basemap import Basemap\n",
      "import numpy as np\n",
      "import matplotlib.pyplot as plt\n",
      "from matplotlib import cm\n",
      "import pandas as pd"
     ],
     "language": "python",
     "metadata": {},
     "outputs": [],
     "prompt_number": 1
    },
    {
     "cell_type": "code",
     "collapsed": false,
     "input": [
      "gdp = pd.read_csv('horizontal-file_03-2007 - GDP.csv', skip_footer=4, thousands=',')\n",
      "gdp.ix[:5,:5]"
     ],
     "language": "python",
     "metadata": {},
     "outputs": [
      {
       "html": [
        "<div style=\"max-height:1000px;max-width:1500px;overflow:auto;\">\n",
        "<table border=\"1\" class=\"dataframe\">\n",
        "  <thead>\n",
        "    <tr style=\"text-align: right;\">\n",
        "      <th></th>\n",
        "      <th>Unnamed: 0</th>\n",
        "      <th>1</th>\n",
        "      <th>1000</th>\n",
        "      <th>1500</th>\n",
        "      <th>1600</th>\n",
        "    </tr>\n",
        "  </thead>\n",
        "  <tbody>\n",
        "    <tr>\n",
        "      <th>0</th>\n",
        "      <td> Western Europe </td>\n",
        "      <td>  NaN</td>\n",
        "      <td>  NaN</td>\n",
        "      <td>   NaN</td>\n",
        "      <td>   NaN</td>\n",
        "    </tr>\n",
        "    <tr>\n",
        "      <th>1</th>\n",
        "      <td>        Austria </td>\n",
        "      <td>  213</td>\n",
        "      <td>  298</td>\n",
        "      <td>  1414</td>\n",
        "      <td>  2093</td>\n",
        "    </tr>\n",
        "    <tr>\n",
        "      <th>2</th>\n",
        "      <td>        Belgium </td>\n",
        "      <td>  135</td>\n",
        "      <td>  170</td>\n",
        "      <td>  1225</td>\n",
        "      <td>  1561</td>\n",
        "    </tr>\n",
        "    <tr>\n",
        "      <th>3</th>\n",
        "      <td>        Denmark </td>\n",
        "      <td>   72</td>\n",
        "      <td>  144</td>\n",
        "      <td>   443</td>\n",
        "      <td>   569</td>\n",
        "    </tr>\n",
        "    <tr>\n",
        "      <th>4</th>\n",
        "      <td>        Finland </td>\n",
        "      <td>    8</td>\n",
        "      <td>   16</td>\n",
        "      <td>   136</td>\n",
        "      <td>   215</td>\n",
        "    </tr>\n",
        "    <tr>\n",
        "      <th>5</th>\n",
        "      <td>          France</td>\n",
        "      <td> 2366</td>\n",
        "      <td> 2763</td>\n",
        "      <td> 10912</td>\n",
        "      <td> 15559</td>\n",
        "    </tr>\n",
        "  </tbody>\n",
        "</table>\n",
        "</div>"
       ],
       "metadata": {},
       "output_type": "pyout",
       "prompt_number": 6,
       "text": [
        "        Unnamed: 0     1  1000   1500   1600\n",
        "0  Western Europe    NaN   NaN    NaN    NaN\n",
        "1         Austria    213   298   1414   2093\n",
        "2         Belgium    135   170   1225   1561\n",
        "3         Denmark     72   144    443    569\n",
        "4         Finland      8    16    136    215\n",
        "5           France  2366  2763  10912  15559"
       ]
      }
     ],
     "prompt_number": 6
    },
    {
     "cell_type": "code",
     "collapsed": false,
     "input": [
      "gdp.rename(columns = {'Unnamed: 0':'Country'}, inplace=True)"
     ],
     "language": "python",
     "metadata": {},
     "outputs": [],
     "prompt_number": 7
    },
    {
     "cell_type": "code",
     "collapsed": false,
     "input": [
      "gdp.Country[:10].values"
     ],
     "language": "python",
     "metadata": {},
     "outputs": [
      {
       "metadata": {},
       "output_type": "pyout",
       "prompt_number": 10,
       "text": [
        "array(['Western Europe ', 'Austria ', 'Belgium ', 'Denmark ', 'Finland ',\n",
        "       'France', 'Germany ', 'Italy ', 'Netherlands ', 'Norway '], dtype=object)"
       ]
      }
     ],
     "prompt_number": 10
    },
    {
     "cell_type": "code",
     "collapsed": false,
     "input": [
      "gdp.Country = gdp.Country.map(lambda s: s.strip())\n",
      "gdp.set_index('Country', inplace=True)"
     ],
     "language": "python",
     "metadata": {},
     "outputs": []
    },
    {
     "cell_type": "code",
     "collapsed": false,
     "input": [
      "gdp2 = gdp.applymap(lambda v: v if type(v) == np.float64 else np.nan)\n",
      "gdp2.astype(float)\n",
      "gdp2.ix[:,0].fillna(0, inplace=True)\n",
      "gdp2.fillna(method='ffill', axis=1, inplace=True)\n",
      "gdp2.ix[:5,:5]"
     ],
     "language": "python",
     "metadata": {},
     "outputs": []
    },
    {
     "cell_type": "code",
     "collapsed": false,
     "input": [
      "coord = pd.read_table('/Users/dvelkov/Downloads/country_centroids/country_centroids_primary.csv', sep='\\t')\n",
      "coord.rename(columns = {'SHORT_NAME':'Country'}, inplace=True)\n",
      "coord.set_index('Country', inplace=True)\n",
      "coord.ix[:5,:5]"
     ],
     "language": "python",
     "metadata": {},
     "outputs": [
      {
       "html": [
        "<div style=\"max-height:1000px;max-width:1500px;overflow:auto;\">\n",
        "<table border=\"1\" class=\"dataframe\">\n",
        "  <thead>\n",
        "    <tr style=\"text-align: right;\">\n",
        "      <th></th>\n",
        "      <th>LAT</th>\n",
        "      <th>LONG</th>\n",
        "      <th>DMS_LAT</th>\n",
        "      <th>DMS_LONG</th>\n",
        "      <th>MGRS</th>\n",
        "    </tr>\n",
        "    <tr>\n",
        "      <th>Country</th>\n",
        "      <th></th>\n",
        "      <th></th>\n",
        "      <th></th>\n",
        "      <th></th>\n",
        "      <th></th>\n",
        "    </tr>\n",
        "  </thead>\n",
        "  <tbody>\n",
        "    <tr>\n",
        "      <th>Afghanistan</th>\n",
        "      <td> 33.000000</td>\n",
        "      <td>  66.0</td>\n",
        "      <td> 330000</td>\n",
        "      <td>  660000</td>\n",
        "      <td> 42STB1970055286</td>\n",
        "    </tr>\n",
        "    <tr>\n",
        "      <th>Albania</th>\n",
        "      <td> 41.000000</td>\n",
        "      <td>  20.0</td>\n",
        "      <td> 410000</td>\n",
        "      <td>  200000</td>\n",
        "      <td> 34TDL1589839239</td>\n",
        "    </tr>\n",
        "    <tr>\n",
        "      <th>Algeria</th>\n",
        "      <td> 28.000000</td>\n",
        "      <td>   3.0</td>\n",
        "      <td> 280000</td>\n",
        "      <td>   30000</td>\n",
        "      <td> 31REL0000097202</td>\n",
        "    </tr>\n",
        "    <tr>\n",
        "      <th>American Samoa</th>\n",
        "      <td>-14.333333</td>\n",
        "      <td>-170.0</td>\n",
        "      <td>-142000</td>\n",
        "      <td>-1700000</td>\n",
        "      <td>         1802701</td>\n",
        "    </tr>\n",
        "    <tr>\n",
        "      <th>Andorra</th>\n",
        "      <td> 42.500000</td>\n",
        "      <td>   1.5</td>\n",
        "      <td> 423000</td>\n",
        "      <td>   13000</td>\n",
        "      <td> 31TCH7675006383</td>\n",
        "    </tr>\n",
        "  </tbody>\n",
        "</table>\n",
        "</div>"
       ],
       "metadata": {},
       "output_type": "pyout",
       "prompt_number": 308,
       "text": [
        "                      LAT   LONG  DMS_LAT  DMS_LONG             MGRS\n",
        "Country                                                             \n",
        "Afghanistan     33.000000   66.0   330000    660000  42STB1970055286\n",
        "Albania         41.000000   20.0   410000    200000  34TDL1589839239\n",
        "Algeria         28.000000    3.0   280000     30000  31REL0000097202\n",
        "American Samoa -14.333333 -170.0  -142000  -1700000          1802701\n",
        "Andorra         42.500000    1.5   423000     13000  31TCH7675006383"
       ]
      }
     ],
     "prompt_number": 308
    },
    {
     "cell_type": "code",
     "collapsed": false,
     "input": [
      "joined = pd.merge(gdp2, coord, left_index=True, right_index=True, how='inner', sort=True)"
     ],
     "language": "python",
     "metadata": {},
     "outputs": [],
     "prompt_number": 309
    },
    {
     "cell_type": "code",
     "collapsed": false,
     "input": [
      "joined.columns[187:191]"
     ],
     "language": "python",
     "metadata": {},
     "outputs": [
      {
       "metadata": {},
       "output_type": "pyout",
       "prompt_number": 333,
       "text": [
        "Index([u'2002', u'2003', u'LAT', u'LONG'], dtype=object)"
       ]
      }
     ],
     "prompt_number": 333
    },
    {
     "cell_type": "code",
     "collapsed": false,
     "input": [
      "[gdp.ix[:,x].count() for x in range(189)]"
     ],
     "language": "python",
     "metadata": {},
     "outputs": [
      {
       "metadata": {},
       "output_type": "pyout",
       "prompt_number": 310,
       "text": [
        "[41, 38, 43, 38, 43, 71, 6, 6, 6, 6, 6, 6, 6, 6, 6]"
       ]
      }
     ],
     "prompt_number": 310
    },
    {
     "cell_type": "code",
     "collapsed": false,
     "input": [
      "fig=plt.figure()\n",
      "ax=fig.add_axes([0.1,0.1,0.8,0.8])\n",
      "m = Basemap(resolution='l',projection='robin', area_thresh=10000,\n",
      "            lat_0=10, lon_0=10)\n",
      "m.drawcoastlines(linewidth=0.5)\n",
      "m.drawcountries()\n",
      "#m.drawlsmask(land_color='#E1E1D1', ocean_color='#F0F0E8')\n",
      "ax.set_title('title')\n",
      "\n",
      "t = 0\n",
      "years = [x for x in range(45) + range(45, 180, 5) + range(180, 189, 2)\n",
      "         if gdp.ix[:,x].count() > 14]\n",
      "N = len(years)\n",
      "for (c, i) in enumerate(years):\n",
      "    year = joined.ix[:,i]\n",
      "    lat, lon = year * joined.LAT, year * joined.LONG\n",
      "    total = sum(year)\n",
      "    x, y = m(sum(lon)/total, sum(lat)/total)\n",
      "    m.plot(x, y, 'o', color=cm.spectral(float(c)/N), markersize=9)\n",
      "    t += 1\n",
      "    if t%4 == 0:\n",
      "        plt.annotate(joined.columns[i], xy=(x-120000, y+100000))\n",
      "    \n",
      "plt.show()"
     ],
     "language": "python",
     "metadata": {},
     "outputs": [],
     "prompt_number": 331
    },
    {
     "cell_type": "code",
     "collapsed": false,
     "input": [],
     "language": "python",
     "metadata": {},
     "outputs": []
    }
   ],
   "metadata": {}
  }
 ]
}